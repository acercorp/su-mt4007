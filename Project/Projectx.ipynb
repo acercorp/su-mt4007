{
 "cells": [
  {
   "cell_type": "markdown",
   "id": "7a541dd1-5b2f-404d-a8d9-636bf41686c0",
   "metadata": {},
   "source": [
    "## Hi"
   ]
  },
  {
   "cell_type": "code",
   "execution_count": 3,
   "id": "944b5621-db73-4345-a970-7c0ad0d803ba",
   "metadata": {
    "tags": []
   },
   "outputs": [
    {
     "name": "stdout",
     "output_type": "stream",
     "text": [
      "3\n"
     ]
    }
   ],
   "source": [
    "a=1\n",
    "b=2\n",
    "c=a+b\n",
    "print(c)"
   ]
  },
  {
   "cell_type": "code",
   "execution_count": null,
   "id": "7e6f4e51-51d2-406c-9803-d47391bc748d",
   "metadata": {},
   "outputs": [],
   "source": []
  }
 ],
 "metadata": {
  "kernelspec": {
   "display_name": "Python 3 (ipykernel)",
   "language": "python",
   "name": "python3"
  },
  "language_info": {
   "codemirror_mode": {
    "name": "ipython",
    "version": 3
   },
   "file_extension": ".py",
   "mimetype": "text/x-python",
   "name": "python",
   "nbconvert_exporter": "python",
   "pygments_lexer": "ipython3",
   "version": "3.11.7"
  }
 },
 "nbformat": 4,
 "nbformat_minor": 5
}
