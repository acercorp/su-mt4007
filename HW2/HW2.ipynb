{
 "cells": [
  {
   "cell_type": "markdown",
   "id": "85212a91-cb43-4084-880c-37f7572342ad",
   "metadata": {},
   "source": [
    "# Homework 2\n",
    "\n",
    "## Apartment Prices\n",
    "\n",
    "How much does an apartment in Ekhagen cost per square metre? Let's find out!"
   ]
  },
  {
   "cell_type": "code",
   "execution_count": 100,
   "id": "d82b1124-3102-4446-9edc-4939db67122e",
   "metadata": {
    "tags": []
   },
   "outputs": [
    {
     "name": "stdout",
     "output_type": "stream",
     "text": [
      "      Price    Rent  Area  Rooms  Price/sqm\n",
      "10  2295000  1743.0  29.0    1.0   79137.93\n",
      "50  1890000  1464.0  24.0    1.0   78750.00\n",
      "54  1795000  1374.0  23.0    1.0   78043.48\n",
      "49  3495000  3052.0  47.0    2.0   74361.70\n",
      "24  2500000  1400.0  35.0    1.0   71428.57\n"
     ]
    }
   ],
   "source": [
    "import pandas as pd\n",
    "booli_data = pd.read_csv('Booli_sold.csv')\n",
    "\n",
    "booli_data['ppsqm'] = booli_data['listPrice'] / booli_data['livingArea']\n",
    "\n",
    "top_5 = booli_data.sort_values(by='ppsqm', ascending=False).head(5)\n",
    "top_5 = top_5[['listPrice', 'rent', 'livingArea', 'rooms', 'ppsqm']].round(2)\n",
    "top_5.columns = ['Price', 'Rent', 'Area', 'Rooms', 'Price/sqm']\n",
    "\n",
    "print(top_5)"
   ]
  },
  {
   "cell_type": "markdown",
   "id": "12694bd1-7e71-4717-a411-92c95e506870",
   "metadata": {},
   "source": [
    "The top 5 square metre prices lie between 71 400 SEK and 79 200 SEK."
   ]
  },
  {
   "cell_type": "code",
   "execution_count": 106,
   "id": "ee55d1bd-e401-4883-824c-30d25388a3d1",
   "metadata": {
    "tags": []
   },
   "outputs": [
    {
     "name": "stdout",
     "output_type": "stream",
     "text": [
      "Average Price/sqm: 54127.44\n"
     ]
    }
   ],
   "source": [
    "average_ppsqm = round(booli_data['ppsqm'].mean(), 2)\n",
    "print(f\"Average Price/sqm: {average_ppsqm}\")"
   ]
  },
  {
   "cell_type": "markdown",
   "id": "21b74e74-c4df-421c-a2bc-1c4e51c7ec76",
   "metadata": {},
   "source": [
    "The average price per square metre in Ekhagen is about 54 100 SEK."
   ]
  },
  {
   "cell_type": "code",
   "execution_count": 78,
   "id": "1c8e096f-204d-4ca0-beca-5fa0538de821",
   "metadata": {
    "tags": []
   },
   "outputs": [
    {
     "name": "stdout",
     "output_type": "stream",
     "text": [
      "   Rooms  Price/sqm\n",
      "0    1.0   63532.79\n",
      "1    1.5   54600.83\n",
      "2    2.5   53896.53\n",
      "3    2.0   53234.21\n",
      "4    5.0   53091.39\n",
      "5    4.0   52979.97\n",
      "6    3.5   52815.11\n",
      "7    3.0   50501.68\n",
      "8    6.0   46557.41\n",
      "9    4.5   43815.79\n"
     ]
    }
   ],
   "source": [
    "ppsqm_room = booli_data.groupby('rooms')['ppsqm'].mean().round(2).sort_values(ascending=False)\n",
    "\n",
    "ppsqm_room = ppsqm_room.reset_index()\n",
    "ppsqm_room.columns = ['Rooms', 'Price/sqm']\n",
    "\n",
    "print(ppsqm_room)"
   ]
  },
  {
   "cell_type": "markdown",
   "id": "6b90767a-5ce7-41cd-a95b-8957a3159642",
   "metadata": {},
   "source": [
    "From the table above it seems that smaller apartments have higher square metre prices than bigger ones."
   ]
  },
  {
   "cell_type": "markdown",
   "id": "903d11a2-b6e7-4928-9ed2-bc6094e37d6f",
   "metadata": {},
   "source": [
    "## Swedish Election 2018\n",
    "\n",
    "How many people in Stockholm voted during the election?\n",
    "\n",
    "In which municipality did the social democratic party get the most votes?\n",
    "\n",
    "Which municipalities had the highest participation?"
   ]
  },
  {
   "cell_type": "code",
   "execution_count": 38,
   "id": "18f5055c-b973-462b-b63b-c2be6b2b781a",
   "metadata": {
    "tags": []
   },
   "outputs": [
    {
     "name": "stdout",
     "output_type": "stream",
     "text": [
      "Total legitimate votes in Stockholm: 1426237\n"
     ]
    }
   ],
   "source": [
    "election_data = pd.read_csv('2018_R_per_kommun.csv', delimiter=';', decimal=',')\n",
    "\n",
    "stockholm_votes = election_data[election_data['LÄNSKOD'] == 1]['RÖSTER GILTIGA'].sum()\n",
    "print(f\"Total legitimate votes in Stockholm: {stockholm_votes}\")"
   ]
  },
  {
   "cell_type": "markdown",
   "id": "23f6e882-6323-4246-ab12-5a3f74146918",
   "metadata": {
    "tags": []
   },
   "source": [
    "The total legitimate votes in Stockholm were 1 426 237 people."
   ]
  },
  {
   "cell_type": "code",
   "execution_count": 121,
   "id": "70bd3a1c-3b6b-44dc-b3a9-31b30cfd76fa",
   "metadata": {
    "tags": []
   },
   "outputs": [
    {
     "name": "stdout",
     "output_type": "stream",
     "text": [
      "KOMMUNNAMN    Munkfors\n",
      "S                52.18\n",
      "Name: 188, dtype: object\n"
     ]
    }
   ],
   "source": [
    "top_S = election_data.loc[election_data['S'].idxmax()]\n",
    "print(top_S[['KOMMUNNAMN', 'S']])"
   ]
  },
  {
   "cell_type": "markdown",
   "id": "499f8d9b-3cd8-4e94-9519-2e705a092e49",
   "metadata": {},
   "source": [
    "The social democratic party got the highest percentage of votes in Munkfors municipality."
   ]
  },
  {
   "cell_type": "code",
   "execution_count": 42,
   "id": "2db007b8-de57-4390-8bb7-af4f81b2ea48",
   "metadata": {
    "tags": []
   },
   "outputs": [
    {
     "name": "stdout",
     "output_type": "stream",
     "text": [
      "    KOMMUNNAMN  VALDELTAGANDE\n",
      "103      Lomma          93.86\n",
      "59        Habo          93.35\n",
      "98    Vellinge          93.13\n"
     ]
    }
   ],
   "source": [
    "top_3 = election_data.sort_values(by='VALDELTAGANDE', ascending=False).head(3)\n",
    "print(top_3[['KOMMUNNAMN', 'VALDELTAGANDE']])"
   ]
  },
  {
   "cell_type": "markdown",
   "id": "7a66d5e8-b828-41c7-a02a-199a1740b586",
   "metadata": {},
   "source": [
    "The three municipalities with the highest participation were Lomma, Habo and Vellinge."
   ]
  },
  {
   "cell_type": "markdown",
   "id": "6a2705e1-e084-4f70-8fb0-a3892f8fa801",
   "metadata": {},
   "source": [
    "## Predicting Strokes\n",
    "\n",
    "Does smoking seem to be related with strokes?"
   ]
  },
  {
   "cell_type": "code",
   "execution_count": 62,
   "id": "4dfe8988-284f-4dbf-a4c7-1deda8766458",
   "metadata": {
    "tags": []
   },
   "outputs": [
    {
     "data": {
      "image/png": "[encoded data removed]",
      "text/plain": [
       "<Figure size 800x800 with 1 Axes>"
      ]
     },
     "metadata": {},
     "output_type": "display_data"
    }
   ],
   "source": [
    "stroke_data = pd.read_csv('stroke-data.csv')\n",
    "\n",
    "import matplotlib.pyplot as plt\n",
    "\n",
    "smoking_counts = stroke_data['smoking_status'].value_counts()\n",
    "\n",
    "plt.figure(figsize=(8, 8))\n",
    "plt.pie(smoking_counts, labels=smoking_counts.index, autopct='%1.1f%%', startangle=90, colors=['#ff9999','#66b3ff','#99ff99','#ffcc99'])\n",
    "plt.title('Smoking Status Distribution')\n",
    "plt.show()"
   ]
  },
  {
   "cell_type": "markdown",
   "id": "9e73551b-2941-43c6-bed5-aeff3518c865",
   "metadata": {},
   "source": [
    "Since the different groups seem to be quite evenly distributed, no obvious correlation can be seen between smoking status and stroke."
   ]
  }
 ],
 "metadata": {
  "kernelspec": {
   "display_name": "Python 3 (ipykernel)",
   "language": "python",
   "name": "python3"
  },
  "language_info": {
   "codemirror_mode": {
    "name": "ipython",
    "version": 3
   },
   "file_extension": ".py",
   "mimetype": "text/x-python",
   "name": "python",
   "nbconvert_exporter": "python",
   "pygments_lexer": "ipython3",
   "version": "3.11.7"
  }
 },
 "nbformat": 4,
 "nbformat_minor": 5
}
