{
 "cells": [
  {
   "cell_type": "markdown",
   "id": "5da84775-03f6-4fc7-a4ef-4876ce318a99",
   "metadata": {},
   "source": [
    "# Homework 4\n",
    "\n",
    "## Joining Data\n",
    "\n",
    "The goal here is to join multiple datasets and calculate the number of phones per capita for each country. We will do the following\n",
    "\n",
    "1. Clean the cell phone and population data.\n",
    "2. Reshape both datasets into a long format.\n",
    "3. Combine the datasets on iso-3 and year.\n",
    "4. Integrate country names and calculate phones per capita.\n",
    "5. Identify top countries in 2019 and analyze trends over time."
   ]
  },
  {
   "cell_type": "markdown",
   "id": "c10a0f96-d450-4631-9ab5-5171e56d2183",
   "metadata": {
    "tags": []
   },
   "source": [
    "### Step 1\n",
    "\n",
    "The cell phone data contains string-based numbers (k, M, B) and missing values. To perform calculations, we need to convert strings to numeric values and handle missing data."
   ]
  },
  {
   "cell_type": "code",
   "execution_count": 65,
   "id": "ba578e41-f509-4466-b43e-5715c21c1c9e",
   "metadata": {
    "tags": []
   },
   "outputs": [],
   "source": [
    "import numpy as np\n",
    "import pandas as pd\n",
    "\n",
    "# Load the datasets\n",
    "cell_phones_data = pd.read_csv('cell_phones_total.csv')\n",
    "pop_data = pd.read_csv('pop_data.csv')\n",
    "country_data = pd.read_csv('country_data.csv')\n",
    "\n",
    "# Function to convert string-based numbers to floats\n",
    "def convert_numeric(value):\n",
    "    if isinstance(value, str):\n",
    "        if 'k' in value:\n",
    "            return float(value.replace('k', '')) * 1e3\n",
    "        elif 'M' in value:\n",
    "            return float(value.replace('M', '')) * 1e6\n",
    "        elif 'B' in value:\n",
    "            return float(value.replace('B', '')) * 1e9\n",
    "    try:\n",
    "        return float(value)\n",
    "    except ValueError:\n",
    "        return np.nan\n",
    "\n",
    "# Clean cell phone data\n",
    "cell_phones_data_cleaned = cell_phones_data.copy()\n",
    "for col in cell_phones_data.columns[1:]:\n",
    "    cell_phones_data_cleaned[col] = cell_phones_data_cleaned[col].apply(convert_numeric)\n",
    "cell_phones_data_cleaned.iloc[:, 1:] = cell_phones_data_cleaned.iloc[:, 1:].interpolate(\n",
    "    method='linear', axis=1\n",
    ")\n",
    "threshold = 20\n",
    "cell_phones_data_cleaned = cell_phones_data_cleaned.dropna(thresh=len(cell_phones_data.columns) - threshold)\n",
    "cell_phones_data_cleaned.iloc[:, 1:] = cell_phones_data_cleaned.iloc[:, 1:].apply(\n",
    "    lambda x: x.fillna(x.mean()), axis=0\n",
    ")"
   ]
  },
  {
   "cell_type": "markdown",
   "id": "39f64cd7-d759-4899-ad3b-35936a724ec7",
   "metadata": {},
   "source": [
    "### Step 2\n",
    "\n",
    "Similar to the cell phone data, population data has missing values. We handle these with interpolation and column means."
   ]
  },
  {
   "cell_type": "code",
   "execution_count": 68,
   "id": "f0ca64a3-84d8-4f08-bae6-c7c57b7cb138",
   "metadata": {
    "tags": []
   },
   "outputs": [],
   "source": [
    "# Clean population data\n",
    "pop_data_cleaned = pop_data.drop(columns=[\"Unnamed: 0\"]).copy()  # Remove unnecessary column\n",
    "for col in pop_data_cleaned.columns[1:]:\n",
    "    pop_data_cleaned[col] = pop_data_cleaned[col].apply(convert_numeric)\n",
    "pop_data_cleaned.iloc[:, 1:] = pop_data_cleaned.iloc[:, 1:].interpolate(\n",
    "    method='linear', axis=1\n",
    ")\n",
    "pop_data_cleaned.iloc[:, 1:] = pop_data_cleaned.iloc[:, 1:].apply(\n",
    "    lambda x: x.fillna(x.mean()), axis=0\n",
    ")"
   ]
  },
  {
   "cell_type": "markdown",
   "id": "039aa97d-decf-47e2-b343-8c9e72a8d08e",
   "metadata": {},
   "source": [
    "### Step 3\n",
    "\n",
    "To merge datasets effectively, we reshape both into long format (iso-3, year, value)."
   ]
  },
  {
   "cell_type": "code",
   "execution_count": 71,
   "id": "3b37672d-9917-4f87-b398-12876d39f58e",
   "metadata": {
    "tags": []
   },
   "outputs": [],
   "source": [
    "# Reshape cell phone data to long format\n",
    "cell_phones_long = cell_phones_data_cleaned.melt(\n",
    "    id_vars=[\"iso-3\"], var_name=\"year\", value_name=\"n_cellphones\"\n",
    ")\n",
    "cell_phones_long[\"year\"] = cell_phones_long[\"year\"].astype(int)\n",
    "\n",
    "# Reshape population data to long format\n",
    "pop_data_long = pop_data_cleaned.melt(\n",
    "    id_vars=[\"iso-3\"], var_name=\"year\", value_name=\"population\"\n",
    ")\n",
    "pop_data_long[\"year\"] = pop_data_long[\"year\"].astype(int)"
   ]
  },
  {
   "cell_type": "markdown",
   "id": "50cd7835-5da0-4f86-b378-0d628ea490a6",
   "metadata": {
    "tags": []
   },
   "source": [
    "### Step 4\n",
    "\n",
    "We merge the two datasets on iso-3 and year to calculate the phones per capita."
   ]
  },
  {
   "cell_type": "code",
   "execution_count": 74,
   "id": "6b3fe2e4-0ce5-4471-bd24-c35565ec31d8",
   "metadata": {
    "tags": []
   },
   "outputs": [],
   "source": [
    "# Merge datasets\n",
    "combined_data = pd.merge(cell_phones_long, pop_data_long, on=[\"iso-3\", \"year\"])\n",
    "\n",
    "# Integrate country names\n",
    "country_data_cleaned = country_data.rename(columns={\"alpha-3\": \"iso-3\"})\n",
    "final_data = pd.merge(combined_data, country_data_cleaned, on=\"iso-3\", how=\"left\")\n",
    "\n",
    "# Calculate phones per capita\n",
    "final_data[\"phones_per_capita\"] = final_data[\"n_cellphones\"] / final_data[\"population\"]"
   ]
  },
  {
   "cell_type": "markdown",
   "id": "f90541b5-72d3-4ccc-a316-70b5f9f4d872",
   "metadata": {
    "tags": []
   },
   "source": [
    "### Step 5\n",
    "\n",
    "We present the results in two tables. Table 1 shows the combined data. Table 2 shows Phones Per Capita for Top Countries (2015–2019), and then we plot the Growth Rate of Phones Per Capita (2010-2019)."
   ]
  },
  {
   "cell_type": "code",
   "execution_count": 77,
   "id": "0dc3bf2b-cccd-4b80-b0c6-16b550bdd2ec",
   "metadata": {
    "tags": []
   },
   "outputs": [
    {
     "name": "stdout",
     "output_type": "stream",
     "text": [
      "Table 1: Combined Data (First Few Rows)\n",
      "  iso-3  year  n_cellphones  population\n",
      "0   ABW  1960           0.0     54608.0\n",
      "1   AFG  1960           0.0   8622466.0\n",
      "2   AGO  1960           0.0   5357195.0\n",
      "3   ALB  1960           0.0   1608800.0\n",
      "4   AND  1960           0.0      9443.0\n",
      "5   ARE  1960           0.0    133426.0\n",
      "6   ARG  1960           0.0  20349744.0\n",
      "7   ARM  1960           0.0   1904148.0\n",
      "8   ASM  1960           0.0     20085.0\n",
      "9   ATG  1960           0.0     55342.0\n",
      "Table 2: Phones Per Capita for Top Countries (2015–2019)\n",
      "name  Antigua and Barbuda  Hong Kong     Macao  Seychelles  \\\n",
      "year                                                         \n",
      "2015             1.956838   2.290401  3.088231    1.584260   \n",
      "2016             1.987545   2.398931  3.143510    1.605459   \n",
      "2017             2.019337   2.488773  3.210102    1.742433   \n",
      "2018             2.008164   2.670209  3.348741    1.849900   \n",
      "2019             1.997460   2.863650  3.284849    1.987196   \n",
      "\n",
      "name  United Arab Emirates  \n",
      "year                        \n",
      "2015              2.007424  \n",
      "2016              2.212521  \n",
      "2017              2.183431  \n",
      "2018              2.199084  \n",
      "2019              2.127739  \n"
     ]
    },
    {
     "data": {
      "image/png": "[encoded data removed]",
      "text/plain": [
       "<Figure size 1000x600 with 1 Axes>"
      ]
     },
     "metadata": {},
     "output_type": "display_data"
    }
   ],
   "source": [
    "# Filter data for top countries by phones per capita in 2019\n",
    "top_countries_2019 = (\n",
    "    final_data[final_data[\"year\"] == 2019]\n",
    "    .sort_values(by=\"phones_per_capita\", ascending=False)\n",
    "    .head(5)\n",
    "    .pivot(index=\"year\", columns=\"name\", values=\"phones_per_capita\")\n",
    ")\n",
    "\n",
    "# Calculate growth rates over the last 10 years for these countries\n",
    "growth_data = final_data[\n",
    "    final_data[\"name\"].isin(top_countries_2019.columns) & (final_data[\"year\"] >= 2010)\n",
    "]\n",
    "growth_pivot = growth_data.pivot(index=\"year\", columns=\"name\", values=\"phones_per_capita\")\n",
    "\n",
    "# Select and display the required columns\n",
    "table1 = final_data[[\"iso-3\", \"year\", \"n_cellphones\", \"population\"]].sort_values(by=[\"year\", \"iso-3\"]).head(10)\n",
    "print(\"Table 1: Combined Data (First Few Rows)\")\n",
    "print(table1)\n",
    "\n",
    "# Filter data for the years 2015–2019 and top 5 countries\n",
    "top_countries = top_countries_2019.columns.tolist()  # List of top countries\n",
    "table2 = final_data[\n",
    "    final_data[\"name\"].isin(top_countries) & (final_data[\"year\"] >= 2015)\n",
    "].pivot(index=\"year\", columns=\"name\", values=\"phones_per_capita\")\n",
    "\n",
    "# Display the table\n",
    "print(\"Table 2: Phones Per Capita for Top Countries (2015–2019)\")\n",
    "print(table2)\n",
    "\n",
    "# Plot growth rates\n",
    "import matplotlib.pyplot as plt\n",
    "\n",
    "growth_pivot.plot(figsize=(10, 6), title=\"Growth Rate of Phones Per Capita (2010-2019)\")\n",
    "plt.ylabel(\"Phones Per Capita\")\n",
    "plt.xlabel(\"Year\")\n",
    "plt.legend(title=\"Country\")\n",
    "plt.grid()\n",
    "plt.show()"
   ]
  },
  {
   "cell_type": "markdown",
   "id": "cedc9b97-b933-4b5e-b66b-a9166a343f0a",
   "metadata": {},
   "source": [
    "## SQL\n",
    "\n",
    "Our goal in this task is to analyze the user_actions table in the SQLite database user_actions.db to do the following:\n",
    "\n",
    "1. Retrieve the usernames of users who performed the \"signup\" action.\n",
    "2. Find the total number of log entries for each user.\n",
    "3. Identify users who logged in and signed up on the same day.\n",
    "\n",
    "### Step 1\n",
    "\n",
    "The sqlite3 module is used to connect to the database and execute queries.\n",
    "\n",
    "Then we identify all users who performed the \"signup\" action. We use the WHERE clause to filter rows where the action column equals 'signup'."
   ]
  },
  {
   "cell_type": "code",
   "execution_count": 80,
   "id": "0cd8e5a1-5436-49bc-8cef-bb473aa46dc2",
   "metadata": {
    "tags": []
   },
   "outputs": [
    {
     "name": "stdout",
     "output_type": "stream",
     "text": [
      "Usernames who performed 'signup':\n",
      "user34\n",
      "user28\n",
      "user1\n",
      "user24\n",
      "user15\n",
      "user20\n",
      "user18\n",
      "user25\n",
      "user3\n",
      "user9\n",
      "user27\n",
      "user16\n",
      "user17\n",
      "user4\n",
      "user8\n",
      "user13\n",
      "user19\n",
      "user31\n",
      "user10\n",
      "user23\n",
      "user11\n",
      "user33\n",
      "user12\n",
      "user29\n",
      "user21\n",
      "user6\n",
      "user14\n",
      "user30\n",
      "user7\n",
      "user26\n",
      "user22\n",
      "user5\n",
      "user35\n",
      "user2\n",
      "user32\n"
     ]
    }
   ],
   "source": [
    "import sqlite3\n",
    "con = sqlite3.connect(\"user_actions.db\")\n",
    "\n",
    "# Create a cursor object\n",
    "cur = con.cursor()\n",
    "\n",
    "# Execute SQL query\n",
    "cur.execute(\"SELECT username FROM user_actions WHERE action = 'signup';\")\n",
    "\n",
    "# Fetch all results\n",
    "signup_usernames = cur.fetchall()\n",
    "\n",
    "# Display results\n",
    "print(\"Usernames who performed 'signup':\")\n",
    "for username in signup_usernames:\n",
    "    print(username[0])"
   ]
  },
  {
   "cell_type": "markdown",
   "id": "3be8cca9-32c2-41bc-a466-7b620b4da16e",
   "metadata": {},
   "source": [
    "### Step 2\n",
    "\n",
    "Here we calculate the total number of actions (log entries) performed by each user. We can use the GROUP BY clause to group rows by user_id and username. Then we use the COUNT(*) function to count the number of rows for each group."
   ]
  },
  {
   "cell_type": "code",
   "execution_count": 83,
   "id": "2fdf9216-627a-4907-9a3e-5ce4ae9dd574",
   "metadata": {
    "tags": []
   },
   "outputs": [
    {
     "name": "stdout",
     "output_type": "stream",
     "text": [
      "Total number of log entries per user:\n",
      "User ID: 1, Username: user1, Log Entries: 104\n",
      "User ID: 2, Username: user2, Log Entries: 149\n",
      "User ID: 3, Username: user3, Log Entries: 108\n",
      "User ID: 4, Username: user4, Log Entries: 436\n",
      "User ID: 5, Username: user5, Log Entries: 192\n",
      "User ID: 6, Username: user6, Log Entries: 457\n",
      "User ID: 7, Username: user7, Log Entries: 362\n",
      "User ID: 8, Username: user8, Log Entries: 329\n",
      "User ID: 9, Username: user9, Log Entries: 118\n",
      "User ID: 10, Username: user10, Log Entries: 170\n",
      "User ID: 11, Username: user11, Log Entries: 328\n",
      "User ID: 12, Username: user12, Log Entries: 209\n",
      "User ID: 13, Username: user13, Log Entries: 470\n",
      "User ID: 14, Username: user14, Log Entries: 320\n",
      "User ID: 15, Username: user15, Log Entries: 35\n",
      "User ID: 16, Username: user16, Log Entries: 379\n",
      "User ID: 17, Username: user17, Log Entries: 367\n",
      "User ID: 18, Username: user18, Log Entries: 122\n",
      "User ID: 19, Username: user19, Log Entries: 58\n",
      "User ID: 20, Username: user20, Log Entries: 362\n",
      "User ID: 21, Username: user21, Log Entries: 323\n",
      "User ID: 22, Username: user22, Log Entries: 275\n",
      "User ID: 23, Username: user23, Log Entries: 309\n",
      "User ID: 24, Username: user24, Log Entries: 162\n",
      "User ID: 25, Username: user25, Log Entries: 136\n",
      "User ID: 26, Username: user26, Log Entries: 217\n",
      "User ID: 27, Username: user27, Log Entries: 211\n",
      "User ID: 28, Username: user28, Log Entries: 91\n",
      "User ID: 29, Username: user29, Log Entries: 49\n",
      "User ID: 30, Username: user30, Log Entries: 165\n",
      "User ID: 31, Username: user31, Log Entries: 389\n",
      "User ID: 32, Username: user32, Log Entries: 32\n",
      "User ID: 33, Username: user33, Log Entries: 32\n",
      "User ID: 34, Username: user34, Log Entries: 180\n",
      "User ID: 35, Username: user35, Log Entries: 394\n"
     ]
    }
   ],
   "source": [
    "# Execute SQL query\n",
    "cur.execute(\"\"\"\n",
    "SELECT user_id, username, COUNT(*) AS log_entries\n",
    "FROM user_actions\n",
    "GROUP BY user_id, username;\n",
    "\"\"\")\n",
    "\n",
    "# Fetch all results\n",
    "log_entries = cur.fetchall()\n",
    "\n",
    "# Display results\n",
    "print(\"Total number of log entries per user:\")\n",
    "for entry in log_entries:\n",
    "    print(f\"User ID: {entry[0]}, Username: {entry[1]}, Log Entries: {entry[2]}\")"
   ]
  },
  {
   "cell_type": "markdown",
   "id": "9e303d3d-90a2-4b86-9a62-6cb66cfa0ca0",
   "metadata": {},
   "source": [
    "### Step 3\n",
    "\n",
    "Here we find users who performed both a \"login\" and a \"signup\" action on the same day. We do a self-join on the user_actions table using user_id as the key to match rows for the same user. Then we use the WHERE clause to ensure one action is 'login' and the other is 'signup', and the DATE() function to extract the date part from the timestamp column and compare dates."
   ]
  },
  {
   "cell_type": "code",
   "execution_count": 86,
   "id": "64c7cf30-dcab-4abb-abf1-a33a5ffb6acb",
   "metadata": {
    "tags": []
   },
   "outputs": [
    {
     "name": "stdout",
     "output_type": "stream",
     "text": [
      "Users who logged in and signed up on the same day:\n",
      "User ID: 8, Username: user8\n",
      "User ID: 12, Username: user12\n",
      "User ID: 30, Username: user30\n",
      "User ID: 7, Username: user7\n",
      "User ID: 22, Username: user22\n",
      "User ID: 5, Username: user5\n",
      "User ID: 2, Username: user2\n",
      "User ID: 32, Username: user32\n"
     ]
    }
   ],
   "source": [
    "# Execute SQL query\n",
    "cur.execute(\"\"\"\n",
    "SELECT DISTINCT ua1.user_id, ua1.username\n",
    "FROM user_actions ua1\n",
    "JOIN user_actions ua2\n",
    "ON ua1.user_id = ua2.user_id\n",
    "WHERE ua1.action = 'login'\n",
    "  AND ua2.action = 'signup'\n",
    "  AND DATE(ua1.timestamp) = DATE(ua2.timestamp);\n",
    "\"\"\")\n",
    "\n",
    "# Fetch all results\n",
    "login_signup_users = cur.fetchall()\n",
    "\n",
    "# Display results\n",
    "print(\"Users who logged in and signed up on the same day:\")\n",
    "for user in login_signup_users:\n",
    "    print(f\"User ID: {user[0]}, Username: {user[1]}\")"
   ]
  },
  {
   "cell_type": "markdown",
   "id": "fffc48c5-457e-4b83-8a09-dacbc5d859a8",
   "metadata": {},
   "source": [
    "## Regex\n",
    "\n",
    "We extract hashtags using a regular expression that matches words starting with # and followed by alphanumeric characters (letters, numbers, and underscores)."
   ]
  },
  {
   "cell_type": "code",
   "execution_count": 89,
   "id": "045f3570-8258-4264-a6ca-f724b84f34cc",
   "metadata": {
    "tags": []
   },
   "outputs": [
    {
     "name": "stdout",
     "output_type": "stream",
     "text": [
      "['#programming', '#tips']\n"
     ]
    }
   ],
   "source": [
    "import re\n",
    "\n",
    "# Example comment\n",
    "comment = \"Great stuff! #programming #tips\"\n",
    "\n",
    "# Extract hashtags\n",
    "hashtags = re.findall(r\"#\\w+\", comment)\n",
    "print(hashtags)"
   ]
  },
  {
   "cell_type": "markdown",
   "id": "9ed9cfe9-2cda-4836-a483-0be47939131a",
   "metadata": {},
   "source": [
    "Here we use a regex pattern that ensures both hashtags are present in the comment. "
   ]
  },
  {
   "cell_type": "code",
   "execution_count": 92,
   "id": "9e2237e1-8a87-4f30-8103-bb3809e641f3",
   "metadata": {
    "tags": []
   },
   "outputs": [
    {
     "data": {
      "text/plain": [
       "True"
      ]
     },
     "execution_count": 92,
     "metadata": {},
     "output_type": "execute_result"
    }
   ],
   "source": [
    "# Example comment 2\n",
    "comment2 = \"I am learning #programming in #python\"\n",
    "\n",
    "# Regular expression to check for both #programming and #python\n",
    "pattern = r\"(?=.*#programming)(?=.*#python)\"\n",
    "\n",
    "# Apply regex to check if both hashtags are present\n",
    "match = re.search(pattern, comment2, re.IGNORECASE)\n",
    "\n",
    "# Output the result\n",
    "bool(match)\n"
   ]
  },
  {
   "cell_type": "code",
   "execution_count": 94,
   "id": "6a5111e7-301f-4756-bf4e-1f5036a06bd2",
   "metadata": {
    "tags": []
   },
   "outputs": [
    {
     "name": "stdout",
     "output_type": "stream",
     "text": [
      "{'#research', '#coding', '#analysis', '#data', '#python', '#innovation', '#insights', '#programming', '#tech', '#analytics', '#tips'}\n"
     ]
    }
   ],
   "source": [
    "# Load comments file\n",
    "with open('comments.txt', 'r') as file:\n",
    "    comments = file.read()\n",
    "\n",
    "# Extract all hashtags\n",
    "all_hashtags = re.findall(r\"#\\w+\", comments)\n",
    "\n",
    "# Get unique hashtags\n",
    "unique_hashtags = set(all_hashtags)\n",
    "print(unique_hashtags)"
   ]
  }
 ],
 "metadata": {
  "kernelspec": {
   "display_name": "Python 3 (ipykernel)",
   "language": "python",
   "name": "python3"
  },
  "language_info": {
   "codemirror_mode": {
    "name": "ipython",
    "version": 3
   },
   "file_extension": ".py",
   "mimetype": "text/x-python",
   "name": "python",
   "nbconvert_exporter": "python",
   "pygments_lexer": "ipython3",
   "version": "3.11.7"
  }
 },
 "nbformat": 4,
 "nbformat_minor": 5
}
