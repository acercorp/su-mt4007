{
 "cells": [
  {
   "cell_type": "markdown",
   "id": "41502bc7-715c-4e79-8a63-f982799e731e",
   "metadata": {},
   "source": [
    "# Homework 1\n",
    "\n",
    "## About Me\n",
    "My name is Asser Koskinen. I am on the Bachelor's programme in Mathematics and Machine Learning. I have been teaching math and statistics for a long time, but the data science part is ever evolving, so I need to keep up.\n",
    "\n",
    "## Previous Experience with Data Science\n",
    "I have taken a few basic courses in R and Python and taught some algorithms to my students. I hope I can understand more data science techniques and principles in this course."
   ]
  },
  {
   "cell_type": "code",
   "execution_count": null,
   "id": "f247e05f-071d-4c12-957c-f377e049bf88",
   "metadata": {},
   "outputs": [],
   "source": []
  }
 ],
 "metadata": {
  "kernelspec": {
   "display_name": "Python 3 (ipykernel)",
   "language": "python",
   "name": "python3"
  },
  "language_info": {
   "codemirror_mode": {
    "name": "ipython",
    "version": 3
   },
   "file_extension": ".py",
   "mimetype": "text/x-python",
   "name": "python",
   "nbconvert_exporter": "python",
   "pygments_lexer": "ipython3",
   "version": "3.11.7"
  }
 },
 "nbformat": 4,
 "nbformat_minor": 5
}
